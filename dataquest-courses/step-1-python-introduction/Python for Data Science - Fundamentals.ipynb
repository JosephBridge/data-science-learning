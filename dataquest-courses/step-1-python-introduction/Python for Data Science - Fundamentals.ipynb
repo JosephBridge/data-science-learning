{
 "cells": [
  {
   "cell_type": "markdown",
   "metadata": {},
   "source": [
    "# Python for Data Science: Fundamentals\n",
    "\n",
    "## Programming in Python\n",
    "\n",
    "***Mission 311*** - Download the takeaway for this mission in folder `/takeaways/` [on Github](https://github.com/dinhanhthi/data-science-learning/tree/master/dataquest-courses)."
   ]
  },
  {
   "cell_type": "code",
   "execution_count": 1,
   "metadata": {},
   "outputs": [
    {
     "data": {
      "text/plain": [
       "50"
      ]
     },
     "execution_count": 1,
     "metadata": {},
     "output_type": "execute_result"
    }
   ],
   "source": [
    "8 + 42"
   ]
  },
  {
   "cell_type": "code",
   "execution_count": 3,
   "metadata": {},
   "outputs": [
    {
     "name": "stdout",
     "output_type": "stream",
     "text": [
      "42\n"
     ]
    }
   ],
   "source": [
    "# display the result\n",
    "print(40 + 2)"
   ]
  },
  {
   "cell_type": "code",
   "execution_count": 4,
   "metadata": {},
   "outputs": [
    {
     "ename": "SyntaxError",
     "evalue": "invalid syntax (<ipython-input-4-b98dff18fc8d>, line 2)",
     "output_type": "error",
     "traceback": [
      "\u001b[1;36m  File \u001b[1;32m\"<ipython-input-4-b98dff18fc8d>\"\u001b[1;36m, line \u001b[1;32m2\u001b[0m\n\u001b[1;33m    print(20 + 7) print(10 + 2)\u001b[0m\n\u001b[1;37m                      ^\u001b[0m\n\u001b[1;31mSyntaxError\u001b[0m\u001b[1;31m:\u001b[0m invalid syntax\n"
     ]
    }
   ],
   "source": [
    "# the same line\n",
    "print(20 + 7) print(10 + 2)"
   ]
  },
  {
   "cell_type": "code",
   "execution_count": 5,
   "metadata": {},
   "outputs": [
    {
     "name": "stdout",
     "output_type": "stream",
     "text": [
      "27\n",
      "12\n"
     ]
    }
   ],
   "source": [
    "# separate lines\n",
    "print(20 + 7)\n",
    "print(10 +2)"
   ]
  },
  {
   "cell_type": "code",
   "execution_count": 6,
   "metadata": {},
   "outputs": [
    {
     "name": "stdout",
     "output_type": "stream",
     "text": [
      "6\n",
      "4\n"
     ]
    }
   ],
   "source": [
    "# the order of lines (who comes first will be excuted first)\n",
    "print(5 + 1)\n",
    "print(5 - 1)"
   ]
  },
  {
   "cell_type": "code",
   "execution_count": 7,
   "metadata": {},
   "outputs": [
    {
     "name": "stdout",
     "output_type": "stream",
     "text": [
      "4\n",
      "6\n"
     ]
    }
   ],
   "source": [
    "# different orders in comparison with the above codes\n",
    "print(5 - 1)\n",
    "print(5 + 1)"
   ]
  },
  {
   "cell_type": "code",
   "execution_count": 16,
   "metadata": {},
   "outputs": [
    {
     "name": "stdout",
     "output_type": "stream",
     "text": [
      "160\n",
      "4.0\n",
      "4\n",
      "8\n",
      "1\n"
     ]
    }
   ],
   "source": [
    "# other math operators\n",
    "print(16*10) # multiplication\n",
    "print(16/4) # division (always gives real numbers)\n",
    "print(17//4) # division giving integer numbers\n",
    "print(2**3) # power\n",
    "print(10%3) # modulo"
   ]
  },
  {
   "cell_type": "markdown",
   "metadata": {},
   "source": [
    "## Variables and Data Types\n",
    "\n",
    "***Mission 200*** - Download the takeaway for this mission in folder `/takeaways/` [on Github](https://github.com/dinhanhthi/data-science-learning/tree/master/dataquest-courses)."
   ]
  },
  {
   "cell_type": "code",
   "execution_count": 10,
   "metadata": {},
   "outputs": [
    {
     "name": "stdout",
     "output_type": "stream",
     "text": [
      "12\n"
     ]
    }
   ],
   "source": [
    "# assign values to variables\n",
    "result = (2 + 1) * 4\n",
    "print(result)"
   ]
  },
  {
   "cell_type": "code",
   "execution_count": 12,
   "metadata": {},
   "outputs": [
    {
     "name": "stdout",
     "output_type": "stream",
     "text": [
      "13\n",
      "24\n"
     ]
    }
   ],
   "source": [
    "# and then you can use this variables to make other tasks\n",
    "print(result + 1)\n",
    "\n",
    "result = result*2\n",
    "print(result)"
   ]
  },
  {
   "cell_type": "code",
   "execution_count": 14,
   "metadata": {},
   "outputs": [
    {
     "name": "stdout",
     "output_type": "stream",
     "text": [
      "12\n"
     ]
    }
   ],
   "source": [
    "# for the second line of code above, you can use an alternative\n",
    "result = 10\n",
    "result += 2 # euquiv to result = result + 2\n",
    "print(result)"
   ]
  },
  {
   "cell_type": "code",
   "execution_count": 15,
   "metadata": {},
   "outputs": [
    {
     "name": "stdout",
     "output_type": "stream",
     "text": [
      "6\n",
      "3.0\n"
     ]
    }
   ],
   "source": [
    "# make the same for other operators\n",
    "result = 2\n",
    "result *= 3\n",
    "print(result)\n",
    "\n",
    "result /= 2\n",
    "print(result)"
   ]
  },
  {
   "cell_type": "code",
   "execution_count": 17,
   "metadata": {},
   "outputs": [
    {
     "name": "stdout",
     "output_type": "stream",
     "text": [
      "<class 'int'>\n",
      "<class 'float'>\n"
     ]
    }
   ],
   "source": [
    "# type of numbers\n",
    "print(type(2))\n",
    "print(type(2.0))"
   ]
  },
  {
   "cell_type": "code",
   "execution_count": 18,
   "metadata": {},
   "outputs": [
    {
     "name": "stdout",
     "output_type": "stream",
     "text": [
      "4\n",
      "4.0\n",
      "4.3\n",
      "4\n"
     ]
    }
   ],
   "source": [
    "# change the type of number\n",
    "print(4)\n",
    "print(float(4))\n",
    "\n",
    "print(4.3)\n",
    "print(int(4.3))"
   ]
  },
  {
   "cell_type": "code",
   "execution_count": 19,
   "metadata": {},
   "outputs": [
    {
     "name": "stdout",
     "output_type": "stream",
     "text": [
      "4\n",
      "2\n"
     ]
    }
   ],
   "source": [
    "# round numbers\n",
    "print(round(3.7))\n",
    "print(round(2.3))"
   ]
  },
  {
   "cell_type": "code",
   "execution_count": 23,
   "metadata": {},
   "outputs": [
    {
     "name": "stdout",
     "output_type": "stream",
     "text": [
      "Anh-Thi Dinh\n",
      "<class 'str'>\n",
      "30\n",
      "<class 'str'>\n",
      "3\n",
      "<class 'int'>\n"
     ]
    }
   ],
   "source": [
    "# string\n",
    "name = \"Anh-Thi Dinh\"\n",
    "print(name)\n",
    "print(type(name))\n",
    "\n",
    "# using '' instead of \"\"\n",
    "age = '30' # not a number, it's a string!\n",
    "print(age)\n",
    "print(type(age))\n",
    "\n",
    "# favorite number\n",
    "fav_num = 3 # it's a number\n",
    "print(fav_num)\n",
    "print(type(fav_num))"
   ]
  },
  {
   "cell_type": "code",
   "execution_count": 27,
   "metadata": {},
   "outputs": [
    {
     "name": "stdout",
     "output_type": "stream",
     "text": [
      "'If you don't understand it, ask me any question!' - I said.\n",
      "\"If you don't understand it, ask me any question!\" - I said.\n"
     ]
    }
   ],
   "source": [
    "# intermix \"\" and ''\n",
    "print(\"'If you don't understand it, ask me any question!' - I said.\")\n",
    "\n",
    "print('\"If you don\\'t understand it, ask me any question!\" - I said.') # using backslash before special characters"
   ]
  },
  {
   "cell_type": "code",
   "execution_count": 34,
   "metadata": {},
   "outputs": [
    {
     "name": "stdout",
     "output_type": "stream",
     "text": [
      "aa\n",
      "a a a \n",
      "ab\n"
     ]
    }
   ],
   "source": [
    "# we can do math with string!\n",
    "print('a' * 2)\n",
    "print('a ' * 3) # there is a space\n",
    "print('a' + 'b')"
   ]
  },
  {
   "cell_type": "code",
   "execution_count": 29,
   "metadata": {},
   "outputs": [
    {
     "ename": "TypeError",
     "evalue": "can only concatenate str (not \"int\") to str",
     "output_type": "error",
     "traceback": [
      "\u001b[1;31m---------------------------------------------------------------------------\u001b[0m",
      "\u001b[1;31mTypeError\u001b[0m                                 Traceback (most recent call last)",
      "\u001b[1;32m<ipython-input-29-b9401ae90b9e>\u001b[0m in \u001b[0;36m<module>\u001b[1;34m\u001b[0m\n\u001b[0;32m      1\u001b[0m \u001b[1;31m# we can't perform operators between strings and integers\u001b[0m\u001b[1;33m\u001b[0m\u001b[1;33m\u001b[0m\u001b[1;33m\u001b[0m\u001b[0m\n\u001b[1;32m----> 2\u001b[1;33m \u001b[0mprint\u001b[0m\u001b[1;33m(\u001b[0m\u001b[1;34m'a'\u001b[0m \u001b[1;33m+\u001b[0m \u001b[1;36m3\u001b[0m\u001b[1;33m)\u001b[0m\u001b[1;33m\u001b[0m\u001b[1;33m\u001b[0m\u001b[0m\n\u001b[0m",
      "\u001b[1;31mTypeError\u001b[0m: can only concatenate str (not \"int\") to str"
     ]
    }
   ],
   "source": [
    "# we can't perform operators between strings and integers\n",
    "print('a' + 3)"
   ]
  },
  {
   "cell_type": "code",
   "execution_count": 37,
   "metadata": {},
   "outputs": [
    {
     "name": "stdout",
     "output_type": "stream",
     "text": [
      "5\n"
     ]
    }
   ],
   "source": [
    "# we do that if this string represents a number\n",
    "print(int('4') + 1)"
   ]
  },
  {
   "cell_type": "code",
   "execution_count": 38,
   "metadata": {},
   "outputs": [
    {
     "ename": "ValueError",
     "evalue": "invalid literal for int() with base 10: 'thi'",
     "output_type": "error",
     "traceback": [
      "\u001b[1;31m---------------------------------------------------------------------------\u001b[0m",
      "\u001b[1;31mValueError\u001b[0m                                Traceback (most recent call last)",
      "\u001b[1;32m<ipython-input-38-2754c3cb234b>\u001b[0m in \u001b[0;36m<module>\u001b[1;34m\u001b[0m\n\u001b[0;32m      1\u001b[0m \u001b[1;31m# but we can't do this because 'thi' doesn't represent a number\u001b[0m\u001b[1;33m\u001b[0m\u001b[1;33m\u001b[0m\u001b[1;33m\u001b[0m\u001b[0m\n\u001b[1;32m----> 2\u001b[1;33m \u001b[0mprint\u001b[0m\u001b[1;33m(\u001b[0m\u001b[0mint\u001b[0m\u001b[1;33m(\u001b[0m\u001b[1;34m'thi'\u001b[0m\u001b[1;33m)\u001b[0m \u001b[1;33m+\u001b[0m \u001b[1;36m1\u001b[0m\u001b[1;33m)\u001b[0m\u001b[1;33m\u001b[0m\u001b[1;33m\u001b[0m\u001b[0m\n\u001b[0m",
      "\u001b[1;31mValueError\u001b[0m: invalid literal for int() with base 10: 'thi'"
     ]
    }
   ],
   "source": [
    "# but we can't do this because 'thi' doesn't represent a number\n",
    "print(int('thi') + 1)"
   ]
  },
  {
   "cell_type": "code",
   "execution_count": 33,
   "metadata": {},
   "outputs": [
    {
     "name": "stdout",
     "output_type": "stream",
     "text": [
      "4\n",
      "4thi\n"
     ]
    }
   ],
   "source": [
    "print(str(4))\n",
    "print(str(4) + 'thi')"
   ]
  },
  {
   "cell_type": "code",
   "execution_count": 35,
   "metadata": {},
   "outputs": [
    {
     "ename": "ValueError",
     "evalue": "invalid literal for int() with base 10: '3.3'",
     "output_type": "error",
     "traceback": [
      "\u001b[1;31m---------------------------------------------------------------------------\u001b[0m",
      "\u001b[1;31mValueError\u001b[0m                                Traceback (most recent call last)",
      "\u001b[1;32m<ipython-input-35-dd114d143004>\u001b[0m in \u001b[0;36m<module>\u001b[1;34m\u001b[0m\n\u001b[1;32m----> 1\u001b[1;33m \u001b[0mprint\u001b[0m\u001b[1;33m(\u001b[0m\u001b[0mint\u001b[0m\u001b[1;33m(\u001b[0m\u001b[1;34m'3.3'\u001b[0m\u001b[1;33m)\u001b[0m\u001b[1;33m)\u001b[0m \u001b[1;31m# we can't because 3.3 is not a integer number\u001b[0m\u001b[1;33m\u001b[0m\u001b[1;33m\u001b[0m\u001b[0m\n\u001b[0m",
      "\u001b[1;31mValueError\u001b[0m: invalid literal for int() with base 10: '3.3'"
     ]
    }
   ],
   "source": [
    "print(int('3.3')) # we can't because 3.3 is not a integer number"
   ]
  },
  {
   "cell_type": "code",
   "execution_count": 36,
   "metadata": {},
   "outputs": [
    {
     "name": "stdout",
     "output_type": "stream",
     "text": [
      "3.3\n"
     ]
    }
   ],
   "source": [
    "# but we can do this\n",
    "print(float('3.3'))"
   ]
  },
  {
   "cell_type": "code",
   "execution_count": 41,
   "metadata": {},
   "outputs": [
    {
     "name": "stdout",
     "output_type": "stream",
     "text": [
      "This is a sentence.\n",
      "This is another sentence.    \n",
      "\n"
     ]
    }
   ],
   "source": [
    "# if you wanna a block of texts?\n",
    "text = '''This is a sentence.\n",
    "This is another sentence.    \n",
    "'''\n",
    "print(text)"
   ]
  },
  {
   "cell_type": "code",
   "execution_count": 42,
   "metadata": {},
   "outputs": [
    {
     "name": "stdout",
     "output_type": "stream",
     "text": [
      "This is a sentence.\n",
      "This is another sentence.\n",
      "\n"
     ]
    }
   ],
   "source": [
    "# you can use \"\"\"\n",
    "text2 = \"\"\"This is a sentence.\n",
    "This is another sentence.\n",
    "\"\"\"\n",
    "print(text2)"
   ]
  },
  {
   "cell_type": "code",
   "execution_count": 43,
   "metadata": {},
   "outputs": [
    {
     "name": "stdout",
     "output_type": "stream",
     "text": [
      "This is a sentence.\n"
     ]
    }
   ],
   "source": [
    "# don't think that \"\"\" is only used for a block, you can use it for a single line of text\n",
    "text3 = \"\"\"This is a sentence.\"\"\"\n",
    "print(text3)"
   ]
  },
  {
   "cell_type": "markdown",
   "metadata": {},
   "source": [
    "## Lists and Foor Loops\n",
    "\n",
    "***Mission 312*** - Download the takeaway for this mission in folder `/takeaways/` [on Github](https://github.com/dinhanhthi/data-science-learning/tree/master/dataquest-courses)."
   ]
  },
  {
   "cell_type": "code",
   "execution_count": 47,
   "metadata": {},
   "outputs": [
    {
     "name": "stdout",
     "output_type": "stream",
     "text": [
      "['Temple Run', 0.0, 'USD', 1724546, 4.5]\n"
     ]
    }
   ],
   "source": [
    "# this is a list\n",
    "lst = ['Temple Run', 0.0, 'USD', 1724546, 4.5]\n",
    "print(lst)"
   ]
  },
  {
   "cell_type": "code",
   "execution_count": 48,
   "metadata": {},
   "outputs": [
    {
     "name": "stdout",
     "output_type": "stream",
     "text": [
      "5\n"
     ]
    }
   ],
   "source": [
    "# how many elements in list?\n",
    "print(len(lst))"
   ]
  },
  {
   "cell_type": "code",
   "execution_count": 59,
   "metadata": {},
   "outputs": [
    {
     "name": "stdout",
     "output_type": "stream",
     "text": [
      "lst =  ['Temple Run', 0.0, 'USD', 1724546, 4.5]\n",
      "Temple Run\n"
     ]
    }
   ],
   "source": [
    "# index of list starts with 0 NOT 1\n",
    "print(\"lst = \", lst)\n",
    "print(lst[0]) # the first element"
   ]
  },
  {
   "cell_type": "code",
   "execution_count": 60,
   "metadata": {},
   "outputs": [
    {
     "name": "stdout",
     "output_type": "stream",
     "text": [
      "lst =  ['Temple Run', 0.0, 'USD', 1724546, 4.5]\n",
      "4.5\n",
      "4.5\n"
     ]
    }
   ],
   "source": [
    "# the last element\n",
    "print(\"lst = \", lst)\n",
    "print(lst[4]) # the 5th element in `lst`\n",
    "print(lst[-1]) # you can use \"-1\" if you don't know exactly the number elements in the list to get its last element"
   ]
  },
  {
   "cell_type": "code",
   "execution_count": 61,
   "metadata": {},
   "outputs": [
    {
     "name": "stdout",
     "output_type": "stream",
     "text": [
      "lst =  ['Temple Run', 0.0, 'USD', 1724546, 4.5]\n",
      "4.5\n",
      "1724546\n",
      "Temple Run\n"
     ]
    }
   ],
   "source": [
    "# you can use only NEGATIVE NUMBERS to access the elements of a list\n",
    "print(\"lst = \", lst)\n",
    "print(lst[-1]) # last element\n",
    "print(lst[-2]) # the second last element\n",
    "print(lst[-5]) # the 1st element in a 5-element-list"
   ]
  },
  {
   "cell_type": "code",
   "execution_count": 55,
   "metadata": {},
   "outputs": [
    {
     "ename": "IndexError",
     "evalue": "list index out of range",
     "output_type": "error",
     "traceback": [
      "\u001b[1;31m---------------------------------------------------------------------------\u001b[0m",
      "\u001b[1;31mIndexError\u001b[0m                                Traceback (most recent call last)",
      "\u001b[1;32m<ipython-input-55-49d9eb15a5a3>\u001b[0m in \u001b[0;36m<module>\u001b[1;34m\u001b[0m\n\u001b[0;32m      1\u001b[0m \u001b[1;31m# you can't access an index exceed the number of elements in a list\u001b[0m\u001b[1;33m\u001b[0m\u001b[1;33m\u001b[0m\u001b[1;33m\u001b[0m\u001b[0m\n\u001b[1;32m----> 2\u001b[1;33m \u001b[0mprint\u001b[0m\u001b[1;33m(\u001b[0m\u001b[0mlst\u001b[0m\u001b[1;33m[\u001b[0m\u001b[1;36m5\u001b[0m\u001b[1;33m]\u001b[0m\u001b[1;33m)\u001b[0m \u001b[1;31m# it's 6th element and there is no 6th element in lst\u001b[0m\u001b[1;33m\u001b[0m\u001b[1;33m\u001b[0m\u001b[0m\n\u001b[0m",
      "\u001b[1;31mIndexError\u001b[0m: list index out of range"
     ]
    }
   ],
   "source": [
    "# you can't access an index exceed the number of elements in a list\n",
    "print(lst[5]) # it's 6th element and there is no 6th element in lst"
   ]
  },
  {
   "cell_type": "code",
   "execution_count": 62,
   "metadata": {},
   "outputs": [
    {
     "name": "stdout",
     "output_type": "stream",
     "text": [
      "lst =  ['Temple Run', 0.0, 'USD', 1724546, 4.5]\n",
      "['Temple Run', 0.0, 'USD']\n"
     ]
    }
   ],
   "source": [
    "# SLICING: access multiples elements in a list\n",
    "print(\"lst = \", lst)\n",
    "print(lst[:3]) # elements from 0 to 2 (1st to 3rd)"
   ]
  },
  {
   "cell_type": "code",
   "execution_count": 63,
   "metadata": {},
   "outputs": [
    {
     "name": "stdout",
     "output_type": "stream",
     "text": [
      "lst =  ['Temple Run', 0.0, 'USD', 1724546, 4.5]\n",
      "[0.0, 'USD']\n"
     ]
    }
   ],
   "source": [
    "# lst[a:b] considers elements from a to b-1 (NOT b)\n",
    "print(\"lst = \", lst)\n",
    "print(lst[1:3]) # elements from index 1 to 2 (2nd element to 3rd one)"
   ]
  },
  {
   "cell_type": "code",
   "execution_count": 64,
   "metadata": {},
   "outputs": [
    {
     "name": "stdout",
     "output_type": "stream",
     "text": [
      "lst =  ['Temple Run', 0.0, 'USD', 1724546, 4.5]\n",
      "['Temple Run', 0.0, 'USD']\n",
      "['USD', 1724546, 4.5]\n"
     ]
    }
   ],
   "source": [
    "print(\"lst = \", lst)\n",
    "# if you wanna consider the FIRST 3 elements of the list\n",
    "print(lst[:3])\n",
    "\n",
    "# if you wanna consider the LAST 3 elements of the list\n",
    "print(lst[-3:])"
   ]
  },
  {
   "cell_type": "code",
   "execution_count": null,
   "metadata": {},
   "outputs": [],
   "source": []
  }
 ],
 "metadata": {
  "kernelspec": {
   "display_name": "Python 3",
   "language": "python",
   "name": "python3"
  },
  "language_info": {
   "codemirror_mode": {
    "name": "ipython",
    "version": 3
   },
   "file_extension": ".py",
   "mimetype": "text/x-python",
   "name": "python",
   "nbconvert_exporter": "python",
   "pygments_lexer": "ipython3",
   "version": "3.7.3"
  }
 },
 "nbformat": 4,
 "nbformat_minor": 2
}
